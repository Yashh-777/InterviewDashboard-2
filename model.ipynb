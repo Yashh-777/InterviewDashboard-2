{
  "nbformat": 4,
  "nbformat_minor": 0,
  "metadata": {
    "colab": {
      "provenance": []
    },
    "kernelspec": {
      "name": "python3",
      "display_name": "Python 3"
    },
    "language_info": {
      "name": "python"
    }
  },
  "cells": [
    {
      "cell_type": "code",
      "execution_count": null,
      "metadata": {
        "id": "9wLUPWnXaQVd"
      },
      "outputs": [],
      "source": [
        "import json\n",
        "\n",
        "data = [\n",
        "    {\n",
        "        \"content\": \"We are pleased to inform you that you have been shortlisted for the next round of interviews.\",\n",
        "        \"category\": \"shortlisted\"\n",
        "    },\n",
        "    {\n",
        "        \"content\": \"Thank you for your application. Unfortunately, we are unable to offer you a position at this time.\",\n",
        "        \"category\": \"rejected\"\n",
        "    },\n",
        "    {\n",
        "        \"content\": \"Congratulations! You have been selected for the position.\",\n",
        "        \"category\": \"selected\"\n",
        "    },\n",
        "    {\n",
        "        \"content\": \"We have reviewed your application and regret to inform you that you have not been selected for the position.\",\n",
        "        \"category\": \"rejected\"\n",
        "    },\n",
        "    {\n",
        "        \"content\": \"We are pleased to invite you to the final round of interviews for the position.\",\n",
        "        \"category\": \"shortlisted\"\n",
        "    },\n",
        "    {\n",
        "        \"content\": \"We are sorry to inform you that you have not been shortlisted for the position.\",\n",
        "        \"category\": \"rejected\"\n",
        "    },\n",
        "    {\n",
        "        \"content\": \"We are happy to inform you that you have been shortlisted for the next stage of selection.\",\n",
        "        \"category\": \"shortlisted\"\n",
        "    },\n",
        "    {\n",
        "        \"content\": \"We have reviewed your application and regret to inform you that you have not been shortlisted for the position.\",\n",
        "        \"category\": \"rejected\"\n",
        "    },\n",
        "    {\n",
        "        \"content\": \"Congratulations! You have been selected for the next round of interviews.\",\n",
        "        \"category\": \"selected\"\n",
        "    },\n",
        "    {\n",
        "        \"content\": \"Thank you for your interest in the position. Unfortunately, we have decided not to shortlist you for further rounds.\",\n",
        "        \"category\": \"rejected\"\n",
        "    },\n",
        "    {\n",
        "        \"content\": \"We are pleased to inform you that you have been selected for the final round of interviews.\",\n",
        "        \"category\": \"selected\"\n",
        "    },\n",
        "    {\n",
        "        \"content\": \"We regret to inform you that you have not been shortlisted for the position at this time.\",\n",
        "        \"category\": \"rejected\"\n",
        "    },\n",
        "    {\n",
        "        \"content\": \"Congratulations! You have been selected for the next stage of selection.\",\n",
        "        \"category\": \"selected\"\n",
        "    },\n",
        "    {\n",
        "        \"content\": \"Thank you for your application. We have decided not to proceed with your application at this time.\",\n",
        "        \"category\": \"rejected\"\n",
        "    },\n",
        "    {\n",
        "        \"content\": \"We are pleased to invite you to the next round of interviews for the position.\",\n",
        "        \"category\": \"shortlisted\"\n",
        "    },\n",
        "    {\n",
        "        \"content\": \"We regret to inform you that you have not been selected for the position.\",\n",
        "        \"category\": \"rejected\"\n",
        "    },\n",
        "    {\n",
        "        \"content\": \"Congratulations! You have been shortlisted for further rounds of selection.\",\n",
        "        \"category\": \"shortlisted\"\n",
        "    },\n",
        "    {\n",
        "        \"content\": \"Thank you for your interest in the position. We have decided not to proceed with your application at this time.\",\n",
        "        \"category\": \"rejected\"\n",
        "    },\n",
        "    {\n",
        "        \"content\": \"We are pleased to inform you that you have been selected for the position.\",\n",
        "        \"category\": \"selected\"\n",
        "    },\n",
        "    {\n",
        "        \"content\": \"We regret to inform you that you have not been shortlisted for the next round of interviews.\",\n",
        "        \"category\": \"rejected\"\n",
        "    },\n",
        "    {\n",
        "        \"content\": \"Congratulations! You have been selected for the final round of interviews.\",\n",
        "        \"category\": \"selected\"\n",
        "    },\n",
        "    {\n",
        "        \"content\": \"Thank you for your application. Unfortunately, we have decided not to shortlist you for further rounds of selection.\",\n",
        "        \"category\": \"rejected\"\n",
        "    },\n",
        "    {\n",
        "        \"content\": \"Congratulations! You have been selected for the final round of interviews.\",\n",
        "        \"category\": \"selected\"\n",
        "    },\n",
        "    {\n",
        "        \"content\": \"Thank you for your application. Unfortunately, we have decided not to shortlist you for further rounds of selection.\",\n",
        "        \"category\": \"rejected\"\n",
        "    },\n",
        "    {\n",
        "        \"content\": \"We are pleased to inform you that you have been shortlisted for the next stage of selection.\",\n",
        "        \"category\": \"shortlisted\"\n",
        "    },\n",
        "    {\n",
        "        \"content\": \"Thank you for your application. We have decided not to proceed with your application at this time.\",\n",
        "        \"category\": \"rejected\"\n",
        "    },\n",
        "    {\n",
        "    \"content\": \"We are sorry to inform you that you have not been selected for the position at this time. However, we would like to keep your application on file for future opportunities.\",\n",
        "    \"category\": \"rejected\"\n",
        "},\n",
        "{\n",
        "    \"content\": \"We are pleased to inform you that you have been shortlisted for the position. Please come to our office on Monday for the next round of interviews.\",\n",
        "    \"category\": \"shortlisted\"\n",
        "},\n",
        "{\n",
        "    \"content\": \"Thank you for your application. We regret to inform you that you have not been selected for the position at this time.\",\n",
        "    \"category\": \"rejected\"\n",
        "},\n",
        "{\n",
        "    \"content\": \"Congratulations! You have been selected for the next stage of the recruitment process.\",\n",
        "    \"category\": \"selected\"\n",
        "},\n",
        "{\n",
        "    \"content\": \"We are sorry to inform you that you have not been shortlisted for the position. We appreciate your interest in our company and encourage you to apply for future opportunities.\",\n",
        "    \"category\": \"rejected\"\n",
        "},\n",
        "{\n",
        "    \"content\": \"We are pleased to invite you to the second round of interviews for the position. Please come to our office on Friday at 10am.\",\n",
        "    \"category\": \"shortlisted\"\n",
        "},\n",
        "{\n",
        "    \"content\": \"Thank you for your application. We have decided not to proceed with your application at this time. However, we would like to keep your resume on file for future opportunities.\",\n",
        "    \"category\": \"rejected\"\n",
        "},\n",
        "{\n",
        "    \"content\": \"Congratulations! You have been selected for the final stage of the recruitment process.\",\n",
        "    \"category\": \"selected\"\n",
        "},\n",
        "{\n",
        "    \"content\": \"We are sorry to inform you that you have not been selected for the position. We received a large number of applications and had to make some tough decisions.\",\n",
        "    \"category\": \"rejected\"\n",
        "}\n",
        "]\n",
        "\n",
        "with open(\"training_data.json\", \"w\") as f:\n",
        "    json.dump(data, f)\n"
      ]
    },
    {
      "cell_type": "code",
      "source": [
        "pip install nltk"
      ],
      "metadata": {
        "colab": {
          "base_uri": "https://localhost:8080/"
        },
        "id": "epqmHS36s5CO",
        "outputId": "dcce9f4b-aede-4427-8e5c-8f79e9eacfda"
      },
      "execution_count": null,
      "outputs": [
        {
          "output_type": "stream",
          "name": "stdout",
          "text": [
            "Looking in indexes: https://pypi.org/simple, https://us-python.pkg.dev/colab-wheels/public/simple/\n",
            "Requirement already satisfied: nltk in /usr/local/lib/python3.10/dist-packages (3.8.1)\n",
            "Requirement already satisfied: click in /usr/local/lib/python3.10/dist-packages (from nltk) (8.1.3)\n",
            "Requirement already satisfied: joblib in /usr/local/lib/python3.10/dist-packages (from nltk) (1.2.0)\n",
            "Requirement already satisfied: regex>=2021.8.3 in /usr/local/lib/python3.10/dist-packages (from nltk) (2022.10.31)\n",
            "Requirement already satisfied: tqdm in /usr/local/lib/python3.10/dist-packages (from nltk) (4.65.0)\n"
          ]
        }
      ]
    },
    {
      "cell_type": "code",
      "source": [
        "import nltk\n",
        "from nltk.tokenize import word_tokenize\n",
        "from nltk.stem import WordNetLemmatizer\n",
        "\n",
        "nltk.download('stopwords')\n",
        "nltk.download('punkt')\n",
        "nltk.download('wordnet')\n",
        "\n",
        "from nltk.corpus import stopwords\n",
        "\n",
        "lemmatizer = WordNetLemmatizer()\n",
        "stop_words = set(stopwords.words('english'))\n",
        "\n",
        "def preprocess(text):\n",
        "    tokens = word_tokenize(text.lower())\n",
        "    tokens = [lemmatizer.lemmatize(token) for token in tokens if token.isalpha()]\n",
        "    tokens = [token for token in tokens if token not in stop_words]\n",
        "    return tokens\n",
        "\n",
        "def extract_features(content):\n",
        "    keywords = {\n",
        "    \"shortlisted\": [\"shortlisted\", \"further rounds\", \"proceed\", \"invite\", \"next stage\", \"progress\"],\n",
        "    \"selected\": [\"selected\", \"next round\", \"further interview\", \"final round\", \"offer\", \"join\", \"appointment\"],\n",
        "    \"rejected\": [\"regret\", \"not selected\", \"not shortlisted\", \"not proceed\", \"unsuccessful\", \"unable\", \"apologies\", \"rejected\"]\n",
        "    }\n",
        "\n",
        "    features = []\n",
        "    for category in keywords:\n",
        "        count = 0\n",
        "        for keyword in keywords[category]:\n",
        "            count += content.count(keyword)\n",
        "        features.append(count)\n",
        "    return features\n"
      ],
      "metadata": {
        "colab": {
          "base_uri": "https://localhost:8080/"
        },
        "id": "wmrRbDoSbKa4",
        "outputId": "ec919825-bfbf-4c54-e53f-d6aed956e27b"
      },
      "execution_count": null,
      "outputs": [
        {
          "output_type": "stream",
          "name": "stderr",
          "text": [
            "[nltk_data] Downloading package stopwords to /root/nltk_data...\n",
            "[nltk_data]   Unzipping corpora/stopwords.zip.\n",
            "[nltk_data] Downloading package punkt to /root/nltk_data...\n",
            "[nltk_data]   Unzipping tokenizers/punkt.zip.\n",
            "[nltk_data] Downloading package wordnet to /root/nltk_data...\n"
          ]
        }
      ]
    },
    {
      "cell_type": "code",
      "source": [
        "import tensorflow as tf\n",
        "import json\n",
        "\n",
        "with open(\"training_data.json\", \"r\") as f:\n",
        "    data = json.load(f)\n",
        "\n",
        "# Define the neural network architecture\n",
        "model = tf.keras.models.Sequential([\n",
        "    tf.keras.layers.Dense(units=4, input_shape=(3,), activation=\"relu\"),\n",
        "    tf.keras.layers.Dense(units=3, activation=\"softmax\")\n",
        "])\n",
        "model.compile(optimizer=\"adam\", loss=\"categorical_crossentropy\", metrics=[\"accuracy\"])\n",
        "\n",
        "# Prepare the training data\n",
        "x_train = []\n",
        "y_train = []\n",
        "for example in data:\n",
        "    x_train.append(extract_features(example[\"content\"]))\n",
        "    y_train.append([\"shortlisted\", \"selected\", \"rejected\"].index(example[\"category\"]))\n",
        "y_train = tf.keras.utils.to_categorical(y_train)\n",
        "\n",
        "# Train the model\n",
        "model.fit(tf.convert_to_tensor(x_train), tf.convert_to_tensor(y_train), epochs=25)\n",
        "\n",
        "# Save the model\n",
        "model.save(\"model.h5\")\n"
      ],
      "metadata": {
        "colab": {
          "base_uri": "https://localhost:8080/"
        },
        "id": "dcuKEXRdastz",
        "outputId": "a11e1c6b-6712-442a-8cd1-cefce5ba2104"
      },
      "execution_count": null,
      "outputs": [
        {
          "output_type": "stream",
          "name": "stdout",
          "text": [
            "Epoch 1/25\n",
            "2/2 [==============================] - 2s 22ms/step - loss: 1.1005 - accuracy: 0.3143\n",
            "Epoch 2/25\n",
            "2/2 [==============================] - 0s 14ms/step - loss: 1.0985 - accuracy: 0.4286\n",
            "Epoch 3/25\n",
            "2/2 [==============================] - 0s 9ms/step - loss: 1.0967 - accuracy: 0.4286\n",
            "Epoch 4/25\n",
            "2/2 [==============================] - 0s 12ms/step - loss: 1.0949 - accuracy: 0.4286\n",
            "Epoch 5/25\n",
            "2/2 [==============================] - 0s 9ms/step - loss: 1.0932 - accuracy: 0.4286\n",
            "Epoch 6/25\n",
            "2/2 [==============================] - 0s 17ms/step - loss: 1.0915 - accuracy: 0.3143\n",
            "Epoch 7/25\n",
            "2/2 [==============================] - 0s 7ms/step - loss: 1.0902 - accuracy: 0.3143\n",
            "Epoch 8/25\n",
            "2/2 [==============================] - 0s 10ms/step - loss: 1.0888 - accuracy: 0.3143\n",
            "Epoch 9/25\n",
            "2/2 [==============================] - 0s 8ms/step - loss: 1.0876 - accuracy: 0.3143\n",
            "Epoch 10/25\n",
            "2/2 [==============================] - 0s 9ms/step - loss: 1.0864 - accuracy: 0.3143\n",
            "Epoch 11/25\n",
            "2/2 [==============================] - 0s 13ms/step - loss: 1.0851 - accuracy: 0.3143\n",
            "Epoch 12/25\n",
            "2/2 [==============================] - 0s 11ms/step - loss: 1.0840 - accuracy: 0.3143\n",
            "Epoch 13/25\n",
            "2/2 [==============================] - 0s 8ms/step - loss: 1.0827 - accuracy: 0.3143\n",
            "Epoch 14/25\n",
            "2/2 [==============================] - 0s 8ms/step - loss: 1.0815 - accuracy: 0.3143\n",
            "Epoch 15/25\n",
            "2/2 [==============================] - 0s 9ms/step - loss: 1.0802 - accuracy: 0.3143\n",
            "Epoch 16/25\n",
            "2/2 [==============================] - 0s 9ms/step - loss: 1.0787 - accuracy: 0.3143\n",
            "Epoch 17/25\n",
            "2/2 [==============================] - 0s 13ms/step - loss: 1.0775 - accuracy: 0.3143\n",
            "Epoch 18/25\n",
            "2/2 [==============================] - 0s 7ms/step - loss: 1.0759 - accuracy: 0.3143\n",
            "Epoch 19/25\n",
            "2/2 [==============================] - 0s 13ms/step - loss: 1.0747 - accuracy: 0.3143\n",
            "Epoch 20/25\n",
            "2/2 [==============================] - 0s 8ms/step - loss: 1.0733 - accuracy: 0.4286\n",
            "Epoch 21/25\n",
            "2/2 [==============================] - 0s 13ms/step - loss: 1.0720 - accuracy: 0.4286\n",
            "Epoch 22/25\n",
            "2/2 [==============================] - 0s 16ms/step - loss: 1.0707 - accuracy: 0.4286\n",
            "Epoch 23/25\n",
            "2/2 [==============================] - 0s 9ms/step - loss: 1.0693 - accuracy: 0.4286\n",
            "Epoch 24/25\n",
            "2/2 [==============================] - 0s 16ms/step - loss: 1.0678 - accuracy: 0.4286\n",
            "Epoch 25/25\n",
            "2/2 [==============================] - 0s 27ms/step - loss: 1.0664 - accuracy: 0.4286\n"
          ]
        }
      ]
    },
    {
      "cell_type": "code",
      "source": [
        "import tensorflow as tf\n",
        "\n",
        "# load the trained model\n",
        "model = tf.keras.models.load_model('model.h5')\n",
        "\n",
        "# convert the model to JSON format\n",
        "model_json = model.to_json()\n",
        "\n",
        "# save the model to a JSON file\n",
        "with open('model.json', 'w') as f:\n",
        "    f.write(model_json)\n"
      ],
      "metadata": {
        "id": "chJx57RQlGMT"
      },
      "execution_count": null,
      "outputs": []
    },
    {
      "cell_type": "code",
      "source": [
        "import os\n",
        "\n",
        "model_filename = \"model.json\"\n",
        "model_path = os.path.join(os.getcwd(), model_filename)\n",
        "\n",
        "print(\"Model saved to:\", model_path)"
      ],
      "metadata": {
        "colab": {
          "base_uri": "https://localhost:8080/"
        },
        "id": "MBhCxM5Qa380",
        "outputId": "a1fb5dd5-06e5-476d-c29e-8d260bc5fe4e"
      },
      "execution_count": null,
      "outputs": [
        {
          "output_type": "stream",
          "name": "stdout",
          "text": [
            "Model saved to: /content/model.json\n"
          ]
        }
      ]
    },
    {
      "cell_type": "code",
      "source": [
        "from tensorflow.keras.models import load_model\n",
        "import numpy as np\n",
        "\n",
        "# Load the saved model\n",
        "model = load_model('model.h5')\n",
        "\n",
        "# Define the categories\n",
        "categories = ['shortlisted', 'rejected', 'selected']\n",
        "\n",
        "# Preprocess and extract features from the input text\n",
        "text = \"Your application has been rejected.\"\n",
        "tokens = preprocess(text)\n",
        "features = extract_features(tokens)\n",
        "input_array = np.array([features])\n",
        "\n",
        "# Make predictions\n",
        "prediction = model.predict(input_array)\n",
        "category_index = prediction.argmax()\n",
        "category = categories[category_index]\n",
        "\n",
        "# Print the predicted category\n",
        "print(category)\n",
        "\n"
      ],
      "metadata": {
        "colab": {
          "base_uri": "https://localhost:8080/"
        },
        "id": "IqkKpOqDxp8A",
        "outputId": "4d3cf4fd-e7d0-44b0-d38c-268617c90681"
      },
      "execution_count": null,
      "outputs": [
        {
          "output_type": "stream",
          "name": "stdout",
          "text": [
            "1/1 [==============================] - 0s 85ms/step\n",
            "rejected\n"
          ]
        }
      ]
    },
    {
      "cell_type": "code",
      "source": [
        "# Load the saved model\n",
        "model = load_model('model.h5')\n",
        "\n",
        "# Define the categories\n",
        "categories = ['shortlisted', 'rejected', 'selected']\n",
        "\n",
        "# Define a list of text to categorize\n",
        "texts = [\"you have been shortlisted for further rounds.\",\n",
        "         \"We regret to inform you that your application has been rejected.\",\n",
        "         \"You have been selected for the next round of interviews.\"]\n",
        "\n",
        "# Initialize counters for each category\n",
        "shortlisted_count = 0\n",
        "rejected_count = 0\n",
        "selected_count = 0\n",
        "\n",
        "# Loop through each text and extract features to categorize\n",
        "for text in texts:\n",
        "    features = extract_features(text)\n",
        "    prediction = model.predict([features])\n",
        "    category_index = prediction.argmax()\n",
        "    category = categories[category_index]\n",
        "\n",
        "    # Increment the corresponding category counter\n",
        "    if category == 'shortlisted':\n",
        "        shortlisted_count += 1\n",
        "    elif category == 'rejected':\n",
        "        rejected_count += 1\n",
        "    elif category == 'selected':\n",
        "        selected_count += 1\n",
        "\n",
        "# Print the category counts\n",
        "print(f'Shortlisted count: {shortlisted_count}')\n",
        "print(f'Rejected count: {rejected_count}')\n",
        "print(f'Selected count: {selected_count}')\n"
      ],
      "metadata": {
        "colab": {
          "base_uri": "https://localhost:8080/"
        },
        "id": "7QL-SnyEy44o",
        "outputId": "098d08d5-384f-4458-fe5a-3189511c435d"
      },
      "execution_count": null,
      "outputs": [
        {
          "output_type": "stream",
          "name": "stdout",
          "text": [
            "1/1 [==============================] - 0s 72ms/step\n",
            "1/1 [==============================] - 0s 37ms/step\n",
            "1/1 [==============================] - 0s 37ms/step\n",
            "Shortlisted count: 0\n",
            "Rejected count: 2\n",
            "Selected count: 1\n"
          ]
        }
      ]
    },
    {
      "cell_type": "code",
      "source": [],
      "metadata": {
        "id": "C1iPnAqJ0XIV"
      },
      "execution_count": null,
      "outputs": []
    }
  ]
}